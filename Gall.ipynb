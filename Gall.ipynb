{
  "nbformat": 4,
  "nbformat_minor": 0,
  "metadata": {
    "colab": {
      "provenance": []
    },
    "kernelspec": {
      "name": "python3",
      "display_name": "Python 3"
    },
    "language_info": {
      "name": "python"
    }
  },
  "cells": [
    {
      "cell_type": "code",
      "execution_count": null,
      "metadata": {
        "id": "MFsszzoVG3wx"
      },
      "outputs": [],
      "source": [
        "from tensorflow.keras.models import Model\n",
        "from tensorflow.keras.layers import Conv2D, MaxPooling2D, BatchNormalization, Flatten, Dense, Dropout, Input, concatenate\n",
        "from tensorflow.keras.regularizers import l2\n",
        "from tensorflow.keras.layers import Conv2D, BatchNormalization, concatenate\n",
        "\n",
        "\n",
        "\n",
        "def multi_scale_block(input_tensor):\n",
        "    conv_1x1 = Conv2D(filters=64, kernel_size=(1, 1), activation='relu', padding='same')(input_tensor)\n",
        "    conv_3x3 = Conv2D(filters=64, kernel_size=(3, 3), activation='relu', padding='same')(input_tensor)\n",
        "    conv_5x5 = Conv2D(filters=64, kernel_size=(5, 5), activation='relu', padding='same')(input_tensor)\n",
        "\n",
        "    conv_1x1 = BatchNormalization()(conv_1x1)\n",
        "    conv_3x3 = BatchNormalization()(conv_3x3)\n",
        "    conv_5x5 = BatchNormalization()(conv_5x5)\n",
        "\n",
        "    merged = concatenate([conv_1x1, conv_3x3, conv_5x5], axis=-1)\n",
        "    return merged\n",
        "\n",
        "\n",
        "input_layer = Input(shape=(IMAGE_SIZE, IMAGE_SIZE, 3))\n",
        "\n",
        "\n",
        "x = Conv2D(filters=32, kernel_size=(3, 3), strides=(1, 1), activation='relu', padding='same')(input_layer)\n",
        "x = BatchNormalization()(x)\n",
        "x = MaxPooling2D(pool_size=(2, 2), strides=(2, 2), padding='valid')(x)\n",
        "\n",
        "x = multi_scale_block(x)\n",
        "x = BatchNormalization()(x)\n",
        "x = MaxPooling2D(pool_size=(2, 2), strides=(2, 2), padding='valid')(x)\n",
        "\n",
        "x = Conv2D(filters=128, kernel_size=(3, 3), strides=(1, 1), activation='relu', padding='same')(x)\n",
        "x = BatchNormalization()(x)\n",
        "x = MaxPooling2D(pool_size=(2, 2), strides=(2, 2), padding='valid')(x)\n",
        "\n",
        "x = multi_scale_block(x)\n",
        "x = BatchNormalization()(x)\n",
        "x = MaxPooling2D(pool_size=(2, 2), strides=(2, 2), padding='valid')(x)\n",
        "\n",
        "x = Conv2D(filters=256, kernel_size=(3, 3), strides=(1, 1), activation='relu', padding='same')(x)\n",
        "x = BatchNormalization()(x)\n",
        "x = MaxPooling2D(pool_size=(2, 2), strides=(2, 2), padding='valid')(x)\n",
        "\n",
        "x = Conv2D(filters=256, kernel_size=(3, 3), strides=(1, 1), activation='relu', padding='same')(x)\n",
        "x = BatchNormalization()(x)\n",
        "x = MaxPooling2D(pool_size=(2, 2), strides=(2, 2), padding='valid')(x)\n",
        "\n",
        "x = Flatten()(x)\n",
        "\n",
        "x = Dense(256, activation='relu', kernel_regularizer=l2(0.01))(x)\n",
        "x = Dropout(0.1)(x)\n",
        "x = Dense(128, activation='relu', kernel_regularizer=l2(0.01))(x)\n",
        "x = Dropout(0.1)(x)\n",
        "\n",
        "output_layer = Dense(9, activation='softmax')(x)\n",
        "\n",
        "model = Model(inputs=input_layer, outputs=output_layer)\n",
        "model.summary()\n"
      ]
    },
    {
      "cell_type": "code",
      "source": [
        "model.compile(\n",
        "    optimizer='Adam',\n",
        "    loss='sparse_categorical_crossentropy',\n",
        "    metrics=['accuracy']\n",
        ")"
      ],
      "metadata": {
        "id": "QeBgA4QxHIHy"
      },
      "execution_count": null,
      "outputs": []
    },
    {
      "cell_type": "code",
      "source": [
        "def lr_schedule(epoch):\n",
        "    initial_lr = 1e-4\n",
        "    k = 0.2  # Decay rate\n",
        "    lr = initial_lr * np.exp(-k * epoch)\n",
        "    print('Learning rate: ', lr)\n",
        "    return lr"
      ],
      "metadata": {
        "id": "sQ4bW8S9HNbO"
      },
      "execution_count": null,
      "outputs": []
    }
  ]
}